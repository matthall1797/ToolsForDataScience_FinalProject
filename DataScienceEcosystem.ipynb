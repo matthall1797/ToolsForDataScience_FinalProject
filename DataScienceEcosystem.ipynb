{
 "cells": [
  {
   "cell_type": "markdown",
   "id": "4bb55b27-55ef-42b7-9a12-1218424620fe",
   "metadata": {},
   "source": [
    "# Data Science Tools and Ecosystem"
   ]
  },
  {
   "cell_type": "markdown",
   "id": "2d43768f-7c9e-43dd-ba64-ef4a4a591de2",
   "metadata": {},
   "source": [
    "## Author\n",
    "Matt Hall"
   ]
  },
  {
   "cell_type": "markdown",
   "id": "eb4a5cc7-ce65-4315-8692-431d457d9534",
   "metadata": {},
   "source": [
    "**Objectives**\n",
    "- Identify popular languages for Data Science\n",
    "- Identify popular libraries for Data Science\n",
    "- Practice using Markdown cells for tables, lists, headers"
   ]
  },
  {
   "cell_type": "markdown",
   "id": "4acf9234-2160-4f5f-8ecb-27d4d3780fbb",
   "metadata": {},
   "source": [
    "## In this notebook, Data Science Tools and Ecosystem are summarized.\n",
    "\n"
   ]
  },
  {
   "cell_type": "markdown",
   "id": "9e70da85-641f-414f-a89b-5d5a684cef95",
   "metadata": {},
   "source": [
    "### Some of the popular languages that Data Scientists use are:\n"
   ]
  },
  {
   "cell_type": "markdown",
   "id": "f7ec1eab-5e86-4839-8827-0b4c0a5661af",
   "metadata": {},
   "source": [
    "1. R\n",
    "2. Python\n",
    "3. Julia"
   ]
  },
  {
   "cell_type": "markdown",
   "id": "b65b6794-d94c-4e9d-8e8a-4910cdb6ca4b",
   "metadata": {},
   "source": [
    "### Some of the commonly used libraries used by Data Scientists include:\n"
   ]
  },
  {
   "cell_type": "markdown",
   "id": "199e3433-f449-4661-8272-5fdf18c58090",
   "metadata": {},
   "source": [
    "1. Dpylr\n",
    "2. Pandas\n",
    "3. Caret"
   ]
  },
  {
   "cell_type": "markdown",
   "id": "0523ba12-dec1-4ae8-aa5f-1d5d97ad63e8",
   "metadata": {},
   "source": [
    "|Data Science Tools|\n",
    "| ----- |\n",
    "| RStudio |\n",
    "| Jupyter |\n",
    "| Spyder |"
   ]
  },
  {
   "cell_type": "markdown",
   "id": "951bf2b4-c853-49e7-9b84-72e3e7d88219",
   "metadata": {},
   "source": [
    "### Below are a few examples of evaluating arithmetic expressions in Python "
   ]
  },
  {
   "cell_type": "code",
   "execution_count": 22,
   "id": "f876b1fd-a996-4a42-9708-5651fb9d6969",
   "metadata": {},
   "outputs": [
    {
     "data": {
      "text/plain": [
       "17"
      ]
     },
     "execution_count": 22,
     "metadata": {},
     "output_type": "execute_result"
    }
   ],
   "source": [
    "# This a simple arithmetic expression to mutiply then add integers\n",
    "(3*4)+5"
   ]
  },
  {
   "cell_type": "code",
   "execution_count": 24,
   "id": "565cfa65-10e1-481d-b2cf-20a3f04fec9c",
   "metadata": {},
   "outputs": [
    {
     "data": {
      "text/plain": [
       "3.3333333333333335"
      ]
     },
     "execution_count": 24,
     "metadata": {},
     "output_type": "execute_result"
    }
   ],
   "source": [
    "#  This will convert 200 minutes to hours by diving by 60\n",
    "200/60"
   ]
  }
 ],
 "metadata": {
  "kernelspec": {
   "display_name": "Python 3 (ipykernel)",
   "language": "python",
   "name": "python3"
  },
  "language_info": {
   "codemirror_mode": {
    "name": "ipython",
    "version": 3
   },
   "file_extension": ".py",
   "mimetype": "text/x-python",
   "name": "python",
   "nbconvert_exporter": "python",
   "pygments_lexer": "ipython3",
   "version": "3.12.4"
  }
 },
 "nbformat": 4,
 "nbformat_minor": 5
}
